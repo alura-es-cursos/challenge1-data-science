{
  "cells": [
    {
      "cell_type": "markdown",
      "metadata": {
        "id": "RhEdWd9YUR6H"
      },
      "source": [
        "### Importação dos dados\n",
        "\n"
      ]
    },
    {
      "cell_type": "code",
      "execution_count": 2,
      "metadata": {
        "colab": {
          "base_uri": "https://localhost:8080/",
          "height": 206
        },
        "id": "T3EvaeQ_INIL",
        "outputId": "7194bc65-372c-47e6-cb47-d4bfc9952c91"
      },
      "outputs": [
        {
          "data": {
            "application/vnd.microsoft.datawrangler.viewer.v0+json": {
              "columns": [
                {
                  "name": "index",
                  "rawType": "int64",
                  "type": "integer"
                },
                {
                  "name": "Produto",
                  "rawType": "object",
                  "type": "string"
                },
                {
                  "name": "Categoria do Produto",
                  "rawType": "object",
                  "type": "string"
                },
                {
                  "name": "Preço",
                  "rawType": "float64",
                  "type": "float"
                },
                {
                  "name": "Frete",
                  "rawType": "float64",
                  "type": "float"
                },
                {
                  "name": "Data da Compra",
                  "rawType": "object",
                  "type": "string"
                },
                {
                  "name": "Vendedor",
                  "rawType": "object",
                  "type": "string"
                },
                {
                  "name": "Local da compra",
                  "rawType": "object",
                  "type": "string"
                },
                {
                  "name": "Avaliação da compra",
                  "rawType": "int64",
                  "type": "integer"
                },
                {
                  "name": "Tipo de pagamento",
                  "rawType": "object",
                  "type": "string"
                },
                {
                  "name": "Quantidade de parcelas",
                  "rawType": "int64",
                  "type": "integer"
                },
                {
                  "name": "lat",
                  "rawType": "float64",
                  "type": "float"
                },
                {
                  "name": "lon",
                  "rawType": "float64",
                  "type": "float"
                }
              ],
              "conversionMethod": "pd.DataFrame",
              "ref": "7f61ef8f-889b-48a3-9c9d-3593f7f62328",
              "rows": [
                [
                  "0",
                  "Assistente virtual",
                  "eletronicos",
                  "219.08",
                  "9.2497899853",
                  "16/01/2021",
                  "Pedro Gomes",
                  "SP",
                  "4",
                  "cartao_credito",
                  "8",
                  "-22.19",
                  "-48.79"
                ],
                [
                  "1",
                  "Mesa de jantar",
                  "moveis",
                  "256.35",
                  "11.2343053621",
                  "18/05/2022",
                  "Beatriz Moraes",
                  "RJ",
                  "1",
                  "cartao_credito",
                  "4",
                  "-22.25",
                  "-42.66"
                ],
                [
                  "2",
                  "Jogo de tabuleiro",
                  "brinquedos",
                  "279.51",
                  "21.2626809863",
                  "15/03/2021",
                  "João Souza",
                  "DF",
                  "1",
                  "cartao_credito",
                  "1",
                  "-15.83",
                  "-47.86"
                ],
                [
                  "3",
                  "Micro-ondas",
                  "eletrodomesticos",
                  "1009.99",
                  "54.6673442173",
                  "03/05/2022",
                  "João Souza",
                  "RS",
                  "4",
                  "boleto",
                  "1",
                  "-30.17",
                  "-53.5"
                ],
                [
                  "4",
                  "Cadeira de escritório",
                  "moveis",
                  "446.99",
                  "26.9646890964",
                  "07/11/2020",
                  "Larissa Alves",
                  "MG",
                  "5",
                  "boleto",
                  "1",
                  "-18.1",
                  "-44.38"
                ]
              ],
              "shape": {
                "columns": 12,
                "rows": 5
              }
            },
            "text/html": [
              "<div>\n",
              "<style scoped>\n",
              "    .dataframe tbody tr th:only-of-type {\n",
              "        vertical-align: middle;\n",
              "    }\n",
              "\n",
              "    .dataframe tbody tr th {\n",
              "        vertical-align: top;\n",
              "    }\n",
              "\n",
              "    .dataframe thead th {\n",
              "        text-align: right;\n",
              "    }\n",
              "</style>\n",
              "<table border=\"1\" class=\"dataframe\">\n",
              "  <thead>\n",
              "    <tr style=\"text-align: right;\">\n",
              "      <th></th>\n",
              "      <th>Produto</th>\n",
              "      <th>Categoria do Produto</th>\n",
              "      <th>Preço</th>\n",
              "      <th>Frete</th>\n",
              "      <th>Data da Compra</th>\n",
              "      <th>Vendedor</th>\n",
              "      <th>Local da compra</th>\n",
              "      <th>Avaliação da compra</th>\n",
              "      <th>Tipo de pagamento</th>\n",
              "      <th>Quantidade de parcelas</th>\n",
              "      <th>lat</th>\n",
              "      <th>lon</th>\n",
              "    </tr>\n",
              "  </thead>\n",
              "  <tbody>\n",
              "    <tr>\n",
              "      <th>0</th>\n",
              "      <td>Assistente virtual</td>\n",
              "      <td>eletronicos</td>\n",
              "      <td>219.08</td>\n",
              "      <td>9.249790</td>\n",
              "      <td>16/01/2021</td>\n",
              "      <td>Pedro Gomes</td>\n",
              "      <td>SP</td>\n",
              "      <td>4</td>\n",
              "      <td>cartao_credito</td>\n",
              "      <td>8</td>\n",
              "      <td>-22.19</td>\n",
              "      <td>-48.79</td>\n",
              "    </tr>\n",
              "    <tr>\n",
              "      <th>1</th>\n",
              "      <td>Mesa de jantar</td>\n",
              "      <td>moveis</td>\n",
              "      <td>256.35</td>\n",
              "      <td>11.234305</td>\n",
              "      <td>18/05/2022</td>\n",
              "      <td>Beatriz Moraes</td>\n",
              "      <td>RJ</td>\n",
              "      <td>1</td>\n",
              "      <td>cartao_credito</td>\n",
              "      <td>4</td>\n",
              "      <td>-22.25</td>\n",
              "      <td>-42.66</td>\n",
              "    </tr>\n",
              "    <tr>\n",
              "      <th>2</th>\n",
              "      <td>Jogo de tabuleiro</td>\n",
              "      <td>brinquedos</td>\n",
              "      <td>279.51</td>\n",
              "      <td>21.262681</td>\n",
              "      <td>15/03/2021</td>\n",
              "      <td>João Souza</td>\n",
              "      <td>DF</td>\n",
              "      <td>1</td>\n",
              "      <td>cartao_credito</td>\n",
              "      <td>1</td>\n",
              "      <td>-15.83</td>\n",
              "      <td>-47.86</td>\n",
              "    </tr>\n",
              "    <tr>\n",
              "      <th>3</th>\n",
              "      <td>Micro-ondas</td>\n",
              "      <td>eletrodomesticos</td>\n",
              "      <td>1009.99</td>\n",
              "      <td>54.667344</td>\n",
              "      <td>03/05/2022</td>\n",
              "      <td>João Souza</td>\n",
              "      <td>RS</td>\n",
              "      <td>4</td>\n",
              "      <td>boleto</td>\n",
              "      <td>1</td>\n",
              "      <td>-30.17</td>\n",
              "      <td>-53.50</td>\n",
              "    </tr>\n",
              "    <tr>\n",
              "      <th>4</th>\n",
              "      <td>Cadeira de escritório</td>\n",
              "      <td>moveis</td>\n",
              "      <td>446.99</td>\n",
              "      <td>26.964689</td>\n",
              "      <td>07/11/2020</td>\n",
              "      <td>Larissa Alves</td>\n",
              "      <td>MG</td>\n",
              "      <td>5</td>\n",
              "      <td>boleto</td>\n",
              "      <td>1</td>\n",
              "      <td>-18.10</td>\n",
              "      <td>-44.38</td>\n",
              "    </tr>\n",
              "  </tbody>\n",
              "</table>\n",
              "</div>"
            ],
            "text/plain": [
              "                 Produto Categoria do Produto    Preço      Frete  \\\n",
              "0     Assistente virtual          eletronicos   219.08   9.249790   \n",
              "1         Mesa de jantar               moveis   256.35  11.234305   \n",
              "2      Jogo de tabuleiro           brinquedos   279.51  21.262681   \n",
              "3            Micro-ondas     eletrodomesticos  1009.99  54.667344   \n",
              "4  Cadeira de escritório               moveis   446.99  26.964689   \n",
              "\n",
              "  Data da Compra        Vendedor Local da compra  Avaliação da compra  \\\n",
              "0     16/01/2021     Pedro Gomes              SP                    4   \n",
              "1     18/05/2022  Beatriz Moraes              RJ                    1   \n",
              "2     15/03/2021      João Souza              DF                    1   \n",
              "3     03/05/2022      João Souza              RS                    4   \n",
              "4     07/11/2020   Larissa Alves              MG                    5   \n",
              "\n",
              "  Tipo de pagamento  Quantidade de parcelas    lat    lon  \n",
              "0    cartao_credito                       8 -22.19 -48.79  \n",
              "1    cartao_credito                       4 -22.25 -42.66  \n",
              "2    cartao_credito                       1 -15.83 -47.86  \n",
              "3            boleto                       1 -30.17 -53.50  \n",
              "4            boleto                       1 -18.10 -44.38  "
            ]
          },
          "execution_count": 2,
          "metadata": {},
          "output_type": "execute_result"
        }
      ],
      "source": [
        "import pandas as pd\n",
        "from typing import Tuple\n",
        "\n",
        "url = \"https://raw.githubusercontent.com/alura-es-cursos/challenge1-data-science/refs/heads/main/base-de-dados-challenge-1/loja_1.csv\"\n",
        "url2 = \"https://raw.githubusercontent.com/alura-es-cursos/challenge1-data-science/refs/heads/main/base-de-dados-challenge-1/loja_2.csv\"\n",
        "url3 = \"https://raw.githubusercontent.com/alura-es-cursos/challenge1-data-science/refs/heads/main/base-de-dados-challenge-1/loja_3.csv\"\n",
        "url4 = \"https://raw.githubusercontent.com/alura-es-cursos/challenge1-data-science/refs/heads/main/base-de-dados-challenge-1/loja_4.csv\"\n",
        "\n",
        "loja1 = pd.read_csv(url)\n",
        "loja2 = pd.read_csv(url2)\n",
        "loja3 = pd.read_csv(url3)\n",
        "loja4 = pd.read_csv(url4)\n",
        "\n",
        "loja1.head()"
      ]
    },
    {
      "cell_type": "markdown",
      "metadata": {},
      "source": [
        "### Dicionário de Dados - Dataset de Vendas\n",
        "\n",
        "| Campo                | Descrição                                              | Tipo             |\n",
        "|----------------------|--------------------------------------------------------|------------------|\n",
        "| `Produto`       | Nome do item vendido                                   | Texto            |\n",
        "| `Categoria do Produto`     | Categoria do produto (ex: Eletrônicos, Roupas)         | Texto            |\n",
        "| `Preço`              | Valor da venda (em moeda local)                        | Numérico         |\n",
        "| `Frete`        | Custo do frete                                         | Numérico         |\n",
        "| `Data da Compra`        | Data da compra (AAAA-MM-DD)                            | Data             |\n",
        "| `Vendedor`     | Vendedor                                      | Texto            |\n",
        "| `Local da Compra`     | Local onde a compra foi efetuada                                      | Texto            |\n",
        "| `Avaliação da compra`          | Feedback dos clientes                         | Numérico         |\n",
        "| `Tipo de pagamento`     | Método de pagamento (ex: cartão, boleto)               | Texto            |\n",
        "| `Quantidade de parcelas`    | Número de parcelas escolhidas                          | Inteiro          |\n",
        "| `latitude_cliente`   | Latitude da localização do cliente                     | Numérico         |\n",
        "| `longitude_cliente`  | Longitude da localização do cliente                    | Numérico         |\n"
      ]
    },
    {
      "cell_type": "code",
      "execution_count": 3,
      "metadata": {},
      "outputs": [
        {
          "name": "stdout",
          "output_type": "stream",
          "text": [
            "Colunas do dataset 1:\n",
            "Index(['Produto', 'Categoria do Produto', 'Preço', 'Frete', 'Data da Compra',\n",
            "       'Vendedor', 'Local da compra', 'Avaliação da compra',\n",
            "       'Tipo de pagamento', 'Quantidade de parcelas', 'lat', 'lon'],\n",
            "      dtype='object')\n",
            "\n",
            "\n",
            "Colunas do dataset 2:\n",
            "Index(['Produto', 'Categoria do Produto', 'Preço', 'Frete', 'Data da Compra',\n",
            "       'Vendedor', 'Local da compra', 'Avaliação da compra',\n",
            "       'Tipo de pagamento', 'Quantidade de parcelas', 'lat', 'lon'],\n",
            "      dtype='object')\n",
            "\n",
            "\n",
            "Colunas do dataset 3:\n",
            "Index(['Produto', 'Categoria do Produto', 'Preço', 'Frete', 'Data da Compra',\n",
            "       'Vendedor', 'Local da compra', 'Avaliação da compra',\n",
            "       'Tipo de pagamento', 'Quantidade de parcelas', 'lat', 'lon'],\n",
            "      dtype='object')\n",
            "\n",
            "\n",
            "Colunas do dataset 4:\n",
            "Index(['Produto', 'Categoria do Produto', 'Preço', 'Frete', 'Data da Compra',\n",
            "       'Vendedor', 'Local da compra', 'Avaliação da compra',\n",
            "       'Tipo de pagamento', 'Quantidade de parcelas', 'lat', 'lon'],\n",
            "      dtype='object')\n",
            "\n",
            "\n"
          ]
        }
      ],
      "source": [
        "# Colunas de cada dataset\n",
        "lista_datasets = [loja1, loja2, loja3, loja4]\n",
        "\n",
        "for i in range(len(lista_datasets)):\n",
        "    print(f\"Colunas do dataset {i+1}:\")\n",
        "    print(lista_datasets[i].columns)\n",
        "    print(\"\\n\")"
      ]
    },
    {
      "cell_type": "code",
      "execution_count": 4,
      "metadata": {},
      "outputs": [
        {
          "name": "stdout",
          "output_type": "stream",
          "text": [
            "Info do dataset 1:\n",
            "<class 'pandas.core.frame.DataFrame'>\n",
            "RangeIndex: 2359 entries, 0 to 2358\n",
            "Data columns (total 12 columns):\n",
            " #   Column                  Non-Null Count  Dtype  \n",
            "---  ------                  --------------  -----  \n",
            " 0   Produto                 2359 non-null   object \n",
            " 1   Categoria do Produto    2359 non-null   object \n",
            " 2   Preço                   2359 non-null   float64\n",
            " 3   Frete                   2359 non-null   float64\n",
            " 4   Data da Compra          2359 non-null   object \n",
            " 5   Vendedor                2359 non-null   object \n",
            " 6   Local da compra         2359 non-null   object \n",
            " 7   Avaliação da compra     2359 non-null   int64  \n",
            " 8   Tipo de pagamento       2359 non-null   object \n",
            " 9   Quantidade de parcelas  2359 non-null   int64  \n",
            " 10  lat                     2359 non-null   float64\n",
            " 11  lon                     2359 non-null   float64\n",
            "dtypes: float64(4), int64(2), object(6)\n",
            "memory usage: 221.3+ KB\n",
            "None\n",
            "\n",
            "\n",
            "Info do dataset 2:\n",
            "<class 'pandas.core.frame.DataFrame'>\n",
            "RangeIndex: 2359 entries, 0 to 2358\n",
            "Data columns (total 12 columns):\n",
            " #   Column                  Non-Null Count  Dtype  \n",
            "---  ------                  --------------  -----  \n",
            " 0   Produto                 2359 non-null   object \n",
            " 1   Categoria do Produto    2359 non-null   object \n",
            " 2   Preço                   2359 non-null   float64\n",
            " 3   Frete                   2359 non-null   float64\n",
            " 4   Data da Compra          2359 non-null   object \n",
            " 5   Vendedor                2359 non-null   object \n",
            " 6   Local da compra         2359 non-null   object \n",
            " 7   Avaliação da compra     2359 non-null   int64  \n",
            " 8   Tipo de pagamento       2359 non-null   object \n",
            " 9   Quantidade de parcelas  2359 non-null   int64  \n",
            " 10  lat                     2359 non-null   float64\n",
            " 11  lon                     2359 non-null   float64\n",
            "dtypes: float64(4), int64(2), object(6)\n",
            "memory usage: 221.3+ KB\n",
            "None\n",
            "\n",
            "\n",
            "Info do dataset 3:\n",
            "<class 'pandas.core.frame.DataFrame'>\n",
            "RangeIndex: 2359 entries, 0 to 2358\n",
            "Data columns (total 12 columns):\n",
            " #   Column                  Non-Null Count  Dtype  \n",
            "---  ------                  --------------  -----  \n",
            " 0   Produto                 2359 non-null   object \n",
            " 1   Categoria do Produto    2359 non-null   object \n",
            " 2   Preço                   2359 non-null   float64\n",
            " 3   Frete                   2359 non-null   float64\n",
            " 4   Data da Compra          2359 non-null   object \n",
            " 5   Vendedor                2359 non-null   object \n",
            " 6   Local da compra         2359 non-null   object \n",
            " 7   Avaliação da compra     2359 non-null   int64  \n",
            " 8   Tipo de pagamento       2359 non-null   object \n",
            " 9   Quantidade de parcelas  2359 non-null   int64  \n",
            " 10  lat                     2359 non-null   float64\n",
            " 11  lon                     2359 non-null   float64\n",
            "dtypes: float64(4), int64(2), object(6)\n",
            "memory usage: 221.3+ KB\n",
            "None\n",
            "\n",
            "\n",
            "Info do dataset 4:\n",
            "<class 'pandas.core.frame.DataFrame'>\n",
            "RangeIndex: 2358 entries, 0 to 2357\n",
            "Data columns (total 12 columns):\n",
            " #   Column                  Non-Null Count  Dtype  \n",
            "---  ------                  --------------  -----  \n",
            " 0   Produto                 2358 non-null   object \n",
            " 1   Categoria do Produto    2358 non-null   object \n",
            " 2   Preço                   2358 non-null   float64\n",
            " 3   Frete                   2358 non-null   float64\n",
            " 4   Data da Compra          2358 non-null   object \n",
            " 5   Vendedor                2358 non-null   object \n",
            " 6   Local da compra         2358 non-null   object \n",
            " 7   Avaliação da compra     2358 non-null   int64  \n",
            " 8   Tipo de pagamento       2358 non-null   object \n",
            " 9   Quantidade de parcelas  2358 non-null   int64  \n",
            " 10  lat                     2358 non-null   float64\n",
            " 11  lon                     2358 non-null   float64\n",
            "dtypes: float64(4), int64(2), object(6)\n",
            "memory usage: 221.2+ KB\n",
            "None\n",
            "\n",
            "\n"
          ]
        }
      ],
      "source": [
        "# Info geral de cada dataset\n",
        "for i in range(len(lista_datasets)):\n",
        "    print(f\"Info do dataset {i+1}:\")\n",
        "    print(lista_datasets[i].info())\n",
        "    print(\"\\n\")"
      ]
    },
    {
      "cell_type": "markdown",
      "metadata": {
        "id": "X62IW3KFUIYm"
      },
      "source": [
        "#1. Análise do faturamento\n"
      ]
    },
    {
      "cell_type": "code",
      "execution_count": 5,
      "metadata": {
        "id": "xykobSftV64I"
      },
      "outputs": [
        {
          "name": "stdout",
          "output_type": "stream",
          "text": [
            "Faturamento da loja 1: R$ 1534509.12\n",
            "Faturamento da loja 2: R$ 1488459.06\n",
            "Faturamento da loja 3: R$ 1464025.03\n",
            "Faturamento da loja 4: R$ 1384497.58\n"
          ]
        }
      ],
      "source": [
        "# Calcular o faturamento total de cada loja\n",
        "for i in range(len(lista_datasets)):\n",
        "    print(f\"Faturamento da loja {i+1}: R$ {lista_datasets[i]['Preço'].sum()}\")\n"
      ]
    },
    {
      "cell_type": "code",
      "execution_count": null,
      "metadata": {},
      "outputs": [],
      "source": []
    },
    {
      "cell_type": "markdown",
      "metadata": {
        "id": "2V_vcAPzWZmR"
      },
      "source": [
        "# 2. Vendas por Categoria\n"
      ]
    },
    {
      "cell_type": "code",
      "execution_count": 6,
      "metadata": {
        "id": "A34YupIuYhfF"
      },
      "outputs": [
        {
          "name": "stdout",
          "output_type": "stream",
          "text": [
            "Quantidade de produtos vendidos por categoria na loja 1:\n",
            "Categoria do Produto\n",
            "moveis                   465\n",
            "eletronicos              448\n",
            "brinquedos               324\n",
            "eletrodomesticos         312\n",
            "esporte e lazer          284\n",
            "instrumentos musicais    182\n",
            "livros                   173\n",
            "utilidades domesticas    171\n",
            "Name: Produto, dtype: int64\n",
            "\n",
            "\n",
            "Quantidade de produtos vendidos por categoria na loja 2:\n",
            "Categoria do Produto\n",
            "moveis                   442\n",
            "eletronicos              422\n",
            "brinquedos               313\n",
            "eletrodomesticos         305\n",
            "esporte e lazer          275\n",
            "instrumentos musicais    224\n",
            "livros                   197\n",
            "utilidades domesticas    181\n",
            "Name: Produto, dtype: int64\n",
            "\n",
            "\n",
            "Quantidade de produtos vendidos por categoria na loja 3:\n",
            "Categoria do Produto\n",
            "moveis                   499\n",
            "eletronicos              451\n",
            "brinquedos               315\n",
            "eletrodomesticos         278\n",
            "esporte e lazer          277\n",
            "livros                   185\n",
            "instrumentos musicais    177\n",
            "utilidades domesticas    177\n",
            "Name: Produto, dtype: int64\n",
            "\n",
            "\n",
            "Quantidade de produtos vendidos por categoria na loja 4:\n",
            "Categoria do Produto\n",
            "moveis                   480\n",
            "eletronicos              451\n",
            "brinquedos               338\n",
            "esporte e lazer          277\n",
            "eletrodomesticos         254\n",
            "utilidades domesticas    201\n",
            "livros                   187\n",
            "instrumentos musicais    170\n",
            "Name: Produto, dtype: int64\n",
            "\n",
            "\n"
          ]
        }
      ],
      "source": [
        "# Quantidade de produtos vendidos por categoria\n",
        "for i in range(len(lista_datasets)):\n",
        "    print(f\"Quantidade de produtos vendidos por categoria na loja {i+1}:\")\n",
        "    print(\n",
        "        lista_datasets[i]\n",
        "        .groupby(by=\"Categoria do Produto\")[\"Produto\"]\n",
        "        .count()\n",
        "        .sort_values(ascending=False)\n",
        "    )\n",
        "    print(\"\\n\")"
      ]
    },
    {
      "cell_type": "code",
      "execution_count": 7,
      "metadata": {},
      "outputs": [
        {
          "name": "stdout",
          "output_type": "stream",
          "text": [
            "Faturamento por categoria na loja 1:\n",
            "Categoria do Produto\n",
            "eletronicos              572659.23\n",
            "eletrodomesticos         484913.36\n",
            "moveis                   250178.11\n",
            "instrumentos musicais    121731.69\n",
            "esporte e lazer           52387.55\n",
            "brinquedos                23993.78\n",
            "utilidades domesticas     16931.48\n",
            "livros                    11713.92\n",
            "Name: Preço, dtype: float64\n",
            "\n",
            "\n",
            "Faturamento por categoria na loja 2:\n",
            "Categoria do Produto\n",
            "eletronicos              547773.71\n",
            "eletrodomesticos         464758.13\n",
            "moveis                   235234.68\n",
            "instrumentos musicais    139987.03\n",
            "esporte e lazer           46326.09\n",
            "brinquedos                21262.21\n",
            "utilidades domesticas     19662.86\n",
            "livros                    13454.35\n",
            "Name: Preço, dtype: float64\n",
            "\n",
            "\n",
            "Faturamento por categoria na loja 3:\n",
            "Categoria do Produto\n",
            "eletronicos              547699.92\n",
            "eletrodomesticos         438984.89\n",
            "moveis                   268095.56\n",
            "instrumentos musicais    103174.45\n",
            "esporte e lazer           47456.10\n",
            "brinquedos                25869.20\n",
            "utilidades domesticas     20080.21\n",
            "livros                    12664.70\n",
            "Name: Preço, dtype: float64\n",
            "\n",
            "\n",
            "Faturamento por categoria na loja 4:\n",
            "Categoria do Produto\n",
            "eletronicos              545966.86\n",
            "eletrodomesticos         377680.65\n",
            "moveis                   256705.65\n",
            "instrumentos musicais    100136.50\n",
            "esporte e lazer           44465.65\n",
            "brinquedos                27015.67\n",
            "utilidades domesticas     20098.83\n",
            "livros                    12427.77\n",
            "Name: Preço, dtype: float64\n",
            "\n",
            "\n"
          ]
        }
      ],
      "source": [
        "# Faturamento por categoria\n",
        "for i in range(len(lista_datasets)):\n",
        "    print(f\"Faturamento por categoria na loja {i+1}:\")\n",
        "    print(\n",
        "        lista_datasets[i]\n",
        "        .groupby(by=\"Categoria do Produto\")[\"Preço\"]\n",
        "        .sum()\n",
        "        .sort_values(ascending=False)\n",
        "    )\n",
        "    print(\"\\n\")"
      ]
    },
    {
      "cell_type": "code",
      "execution_count": null,
      "metadata": {
        "id": "yZR6cOjXYSk1"
      },
      "outputs": [],
      "source": []
    },
    {
      "cell_type": "markdown",
      "metadata": {
        "id": "Rq6tU_xSY3jk"
      },
      "source": [
        "# 3. Média de Avaliação das Lojas"
      ]
    },
    {
      "cell_type": "code",
      "execution_count": 8,
      "metadata": {
        "id": "bh3jjjJwY5MU"
      },
      "outputs": [
        {
          "name": "stdout",
          "output_type": "stream",
          "text": [
            "Média de avaliação da loja 1: 3.98\n",
            "Média de avaliação da loja 2: 4.04\n",
            "Média de avaliação da loja 3: 4.05\n",
            "Média de avaliação da loja 4: 4.00\n"
          ]
        }
      ],
      "source": [
        "# Média de avaliação dos produtos por loja\n",
        "for loja in range(len(lista_datasets)):\n",
        "    media_avaliacao = lista_datasets[loja][\"Avaliação da compra\"].mean()\n",
        "    print(f\"Média de avaliação da loja {loja+1}: {media_avaliacao:.2f}\")"
      ]
    },
    {
      "cell_type": "code",
      "execution_count": null,
      "metadata": {
        "id": "I0KkjPoTY88F"
      },
      "outputs": [],
      "source": []
    },
    {
      "cell_type": "markdown",
      "metadata": {
        "id": "DmNp1KPBZCm-"
      },
      "source": [
        "# 4. Produtos Mais e Menos Vendidos"
      ]
    },
    {
      "cell_type": "code",
      "execution_count": null,
      "metadata": {},
      "outputs": [],
      "source": [
        "def produtos_extremos(df: pd.DataFrame, coluna_produto: str = \"Produto\") -> Tuple[Tuple[str, int], Tuple[str, int]]:\n",
        "    \"\"\"\n",
        "    Retorna o produto mais vendido e o menos vendido de um DataFrame.\n",
        "\n",
        "    Parâmetros:\n",
        "    - df (pd.DataFrame): DataFrame contendo os dados de vendas.\n",
        "    - coluna_produto (str): Nome da coluna que contém os nomes ou identificadores dos produtos.\n",
        "\n",
        "    Retorna:\n",
        "    - Tuple contendo:\n",
        "        - (nome_produto_mais_vendido, unidades_vendidas)\n",
        "        - (nome_produto_menos_vendido, unidades_vendidas)\n",
        "    \"\"\"\n",
        "    contagem = df[coluna_produto].value_counts()\n",
        "    mais_vendido = contagem.idxmax()\n",
        "    menos_vendido = contagem.idxmin()\n",
        "    return (mais_vendido, contagem[mais_vendido]), (menos_vendido, contagem[menos_vendido])\n"
      ]
    },
    {
      "cell_type": "code",
      "execution_count": 11,
      "metadata": {
        "id": "qoyjqijQZHfF"
      },
      "outputs": [
        {
          "name": "stdout",
          "output_type": "stream",
          "text": [
            "Loja 1:\n",
            "Produto mais vendido: Micro-ondas (60 unidades)\n",
            "Produto menos vendido: Headset (33 unidades)\n",
            "\n",
            "\n",
            "Loja 2:\n",
            "Produto mais vendido: Iniciando em programação (65 unidades)\n",
            "Produto menos vendido: Jogo de tabuleiro (32 unidades)\n",
            "\n",
            "\n",
            "Loja 3:\n",
            "Produto mais vendido: Kit banquetas (57 unidades)\n",
            "Produto menos vendido: Blocos de montar (35 unidades)\n",
            "\n",
            "\n",
            "Loja 4:\n",
            "Produto mais vendido: Cama box (62 unidades)\n",
            "Produto menos vendido: Guitarra (33 unidades)\n",
            "\n",
            "\n"
          ]
        }
      ],
      "source": [
        "# Aplicando a função em cada loja\n",
        "for i in range(len(lista_datasets)):\n",
        "    mais_vendido, menos_vendido = produtos_extremos(lista_datasets[i])\n",
        "    print(f\"Loja {i+1}:\")\n",
        "    print(f\"Produto mais vendido: {mais_vendido[0]} ({mais_vendido[1]} unidades)\")\n",
        "    print(f\"Produto menos vendido: {menos_vendido[0]} ({menos_vendido[1]} unidades)\")\n",
        "    print(\"\\n\")"
      ]
    },
    {
      "cell_type": "code",
      "execution_count": null,
      "metadata": {
        "id": "0Sw3sd4IZIGW"
      },
      "outputs": [],
      "source": []
    },
    {
      "cell_type": "markdown",
      "metadata": {
        "id": "Fl0cGi3bZKqU"
      },
      "source": [
        "# 5. Frete Médio por Loja\n"
      ]
    },
    {
      "cell_type": "code",
      "execution_count": 12,
      "metadata": {
        "id": "S2JeaCykZNy9"
      },
      "outputs": [
        {
          "name": "stdout",
          "output_type": "stream",
          "text": [
            "Média do frete da loja 1: R$ 34.69\n",
            "Média do frete da loja 2: R$ 33.62\n",
            "Média do frete da loja 3: R$ 33.07\n",
            "Média do frete da loja 4: R$ 31.28\n"
          ]
        }
      ],
      "source": [
        "#\n",
        "def media_frete(df: pd.DataFrame, coluna_frete: str = \"Frete\") -> float:\n",
        "    \"\"\"\n",
        "    Calcula a média do valor do frete em um DataFrame.\n",
        "\n",
        "    Parâmetros:\n",
        "    - df (pd.DataFrame): DataFrame contendo os dados de vendas.\n",
        "    - coluna_frete (str): Nome da coluna que contém os valores do frete.\n",
        "\n",
        "    Retorna:\n",
        "    - float: Média do valor do frete.\n",
        "    \"\"\"\n",
        "    return df[coluna_frete].mean()\n",
        "\n",
        "# Aplicando a função em cada loja\n",
        "for i in range(len(lista_datasets)):\n",
        "    media = media_frete(lista_datasets[i])\n",
        "    print(f\"Média do frete da loja {i+1}: R$ {media:.2f}\")"
      ]
    },
    {
      "cell_type": "code",
      "execution_count": null,
      "metadata": {
        "id": "0tSdCie9ZQlt"
      },
      "outputs": [],
      "source": []
    }
  ],
  "metadata": {
    "colab": {
      "provenance": []
    },
    "kernelspec": {
      "display_name": ".venv",
      "language": "python",
      "name": "python3"
    },
    "language_info": {
      "codemirror_mode": {
        "name": "ipython",
        "version": 3
      },
      "file_extension": ".py",
      "mimetype": "text/x-python",
      "name": "python",
      "nbconvert_exporter": "python",
      "pygments_lexer": "ipython3",
      "version": "3.13.2"
    }
  },
  "nbformat": 4,
  "nbformat_minor": 0
}
